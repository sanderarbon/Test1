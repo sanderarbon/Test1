{
 "cells": [
  {
   "cell_type": "markdown",
   "metadata": {},
   "source": [
    "# Description\n",
    "Deze notebook dient als een introductie voor de allereerste stapjes in Python en programmeren in het algemeen. Het idee is dat de onderstaande opdrachten ervoor zorgen dat men:\n",
    "* Bekend raakt met de basis datatypes en structuren binnen Python\n",
    "* Bekend raakt met vertakkingen (branches / if-else statements)\n",
    "* Zelfstandig simpele problemen oplossen van begin tot eind met Python"
   ]
  },
  {
   "cell_type": "code",
   "execution_count": null,
   "metadata": {},
   "outputs": [],
   "source": [
    "import SimplxrAPI as dio\n",
    "import shared.introduction_checks as checker"
   ]
  },
  {
   "cell_type": "markdown",
   "metadata": {},
   "source": [
    "# Wat is Python?"
   ]
  },
  {
   "cell_type": "markdown",
   "metadata": {},
   "source": [
    "Python is een programmeertaal die zich voornamelijk kenmerkt doordat het makkelijk te schrijven is. De taal zelf en de manier hoe het opgebouwd is lijken nog het meeste op pseudocode, waardoor het ook voor beginners makkelijk op te pakken is. Voor de gevorderde gebruiker is het voordeel dat Python vrij populair is, waardoor er plug-ins te downloaden zijn voor bijna alles wat je kan bedenken. Het inlezen en automatisch verwerken van Excel voor andere doeleinden (controle of getallen goed zijn ingevoerd, omzetten naar andere formaten, vergelijken tussen versies, etc.) is een typische usecase die veel mensen zou kunnen helpen.\n",
    "\n",
    "Dit soort usecases gaan we hier niet behandelen, gezien het bouwen van een stevig fundament ook belangrijk is. Onderstaande cellen geven wat eenvoudige voorbeelden van hoe Python code eruit ziet, wat je daarna ook kan gebruiken als naslag voor de 'kleine' opdrachten die volgen. "
   ]
  },
  {
   "cell_type": "markdown",
   "metadata": {},
   "source": [
    "# Basis datatypen en operaties\n",
    "De meest fundamentele datatypes in Python zullen zijn:\n",
    "* strings -> Reeksen van karakters die als tekst zijn te interpreteren\n",
    "      * Staan altijd tussen dubbele (\") of enkele (') aanhalingstekens\n",
    "* getallen -> Gehele getallen of kommagetallen (1, 3.4, 6.998, 1/3)\n",
    "* booleans -> Waar of niet waar (True / False), vooral handig voor uitkomsten van vergelijkingen en dergelijke \n",
    "\n",
    "Daarnaast bestaan er ook collecties van waarden om het gebruik van meerdere data-elementen makkelijker te maken. Deze zullen later in deze notebook aan bod komen.\n",
    "\n",
    "Naast de onderstaande operaties die uitgevoerd worden, is het ook mogelijk om commentaar in de code achter te laten. In principe wordt alles na een #-teken niet uitgevoerd en kan dit gebruikt worden om uitleg te geven over de code die je schrijft."
   ]
  },
  {
   "cell_type": "code",
   "execution_count": null,
   "metadata": {
    "jp-MarkdownHeadingCollapsed": true
   },
   "outputs": [],
   "source": [
    "# Wiskundige operaties op getallen werken in de basis zoals je zou verwachten\n",
    "1 + 1   # => 2\n",
    "8 - 1   # => 7\n",
    "10 * 2  # => 20\n",
    "35 / 5  # => 7.0\n"
   ]
  },
  {
   "cell_type": "code",
   "execution_count": null,
   "metadata": {},
   "outputs": [],
   "source": [
    "# Daarnaast is er nog de mogelijkheid om machtsverheffingen en modulo (overblijfsel na delen) operaties te doen \n",
    "# en ook met haakjes volgorde van operaties te bepalen\n",
    "\n",
    "# Haakjes gebruiken:\n",
    "1 + 3 * 2    # => 7\n",
    "(1 + 3) * 2  # => 8\n",
    "\n",
    "# Macht verheffen\n",
    "2**3  # => 8 \n",
    "\n",
    "# Modulo\n",
    "7 % 3   # => 1"
   ]
  },
  {
   "cell_type": "markdown",
   "metadata": {},
   "source": [
    "Naast basiswiskunde is het ook mogelijk om waarden te vergelijken met logica. Deze vergelijkingen zullen allemaal als resultaat True / False hebben en kunnen vervolgens gebruikt worden om het programma een bepaalde kant op te sturen. Als jij een actie wil doen als een waarde tussen 2 en 3 ligt, dan zijn logische vergelijkingen wat je wil gebruiken.\n",
    "\n",
    "In veel gevallen zul je ook gebruik willen maken van combinaties van vergelijkingen om de specifieke situatie te kunnen behandelen die nodig is voor jouw programmatuur. Dit kun je doen met de woorden 'and', 'or' en 'not':\n",
    "* 'and' geeft True als de twee vergelijkingen waar het tussen staat allebei waar zijn\n",
    "* 'or' geeft True als één van de twee vergelijkingen waar het tussen staat waar is\n",
    "* 'not' draait een True/False om. Dus True wordt False en False wordt True\n"
   ]
  },
  {
   "cell_type": "code",
   "execution_count": null,
   "metadata": {},
   "outputs": [],
   "source": [
    "# Gelijkheid -> ==\n",
    "1 == 1  # => True\n",
    "2 == 1  # => False\n",
    "\n",
    "# ongelijkheid -> !=\n",
    "1 != 1  # => False\n",
    "2 != 1  # => True\n",
    "\n",
    "# groter/kleiner/kleiner of gelijk/groter of gelijk\n",
    "1 < 10  # => True\n",
    "1 > 10  # => False\n",
    "2 <= 2  # => True\n",
    "2 >= 2  # => True\n",
    "\n",
    "# Kijken of een getal voldoet aan meerdere vergelijkingen\n",
    "1 < 2 and 2 < 3  # => True\n",
    "2 < 3 and 3 < 2  # => False\n",
    "\n"
   ]
  },
  {
   "cell_type": "markdown",
   "metadata": {},
   "source": [
    "# Variabelen\n",
    "Zoals de naam impliceert, zijn variabelen veranderbaar tijdens het uitvoeren van de code. Dit zorgt ervoor dat het mogelijk is om dynamisch acties te ondernemen afhankelijk van wat voor waarde variabelen aannemen."
   ]
  },
  {
   "cell_type": "code",
   "execution_count": null,
   "metadata": {},
   "outputs": [],
   "source": [
    "# Variabelen kunnen worden aangemaakt door de naam van de variabelen te geven en daarachter wat de waarde is\n",
    "some_var = 5\n",
    "\n",
    "# De waarde staat nu opgeslagen in 'some_var' en kunnen we ook weer gebruiken, bijvoorbeeld om weer te geven.\n",
    "print(some_var)  # => 5"
   ]
  },
  {
   "cell_type": "markdown",
   "metadata": {},
   "source": [
    "De waarde van variabelen wordt natuurlijk meer als je ook bepaalde acties kan nemen op basis van vergelijkingen. Hiervoor zijn in principe vertakkingen de meest gebruikte controle structuur. Je kan zelf de waarde en grenzen vervangen om zo de uitkomst te gaan veranderen die uit de onderstaande code komt\n"
   ]
  },
  {
   "cell_type": "code",
   "execution_count": null,
   "metadata": {},
   "outputs": [],
   "source": [
    "waarde = 5  # Waarde die we willen vergelijken\n",
    "controle_onder = 1  # Ondergrens van onze controle\n",
    "controle_boven = 4  # Bovengrens van onze controle\n",
    "\n",
    "if waarde < controle_onder:\n",
    "    print(\"waarde is kleiner dan de ongrens\")\n",
    "elif waarde > controle_boven:\n",
    "    print(\"waarde is groter dan de bovengrens\")\n",
    "elif controle_onder >= waarde and waarde <= controle_boven:\n",
    "    print(\"opgegeven waarde ligt binnen de grens\")\n",
    "else:\n",
    "    print(\"Vergelijking van de waarde met grenzen is niet gelukt\")"
   ]
  },
  {
   "cell_type": "markdown",
   "metadata": {},
   "source": [
    "In veel gevallen is het handmatig wijzigen van een waarde om vervolgens een uitkomst te krijgen niet de meest optimale manier om met een computer aan de slag te gaan. Om dit proces iets sneller te maken wordt gebruik gemaakt van 'loops' (oftewel: herhalingen). Deze loops draaien net zo vaak als nodig tot een bepaalde condities vervult is. Dit kan zijn dat het einde is wanneer we aan het einde van een collectie, zoals een lijst zijn gekomen, of om wat voor andere reden dan ook. Binnen Python zijn er twee gangbare varianten van loops:\n",
    "* 'for' loops -> Gaan over ieder element in een specifieke collectie heen\n",
    "* 'while' loops -> Gaan door totdat een bepaalde conditie naar False gaat\n",
    "\n",
    "Natuurlijk is ook het concept van lijsten nodig om iets met deze loops te kunnen doen"
   ]
  },
  {
   "cell_type": "code",
   "execution_count": null,
   "metadata": {},
   "outputs": [],
   "source": [
    "# lijsten staan gedefinieerd in rechte haken\n",
    "number_list = [1, 2, 3, 4, 5, 6]\n",
    "\n",
    "# Met de combinatie van een for loop en variabelen kunnen we interessante dingen doen\n",
    "for number in number_list:\n",
    "    if number > 2:\n",
    "        print(number)  # Alleen nummers die groter dan 2 zijn worden geprint"
   ]
  },
  {
   "cell_type": "markdown",
   "metadata": {},
   "source": [
    "while loops werken anders. Deze blijven actief totdat er aan een bepaalde conditie voldaan is. Dit heeft het risico dat je in een oneindige herhaling kan terechtkomen als je een fout maakt (niet erg!), maar is wel handig als je van tevoren niet weet hoevaak je een bepaalde herhaling moet uitvoeren."
   ]
  },
  {
   "cell_type": "code",
   "execution_count": null,
   "metadata": {},
   "outputs": [],
   "source": [
    "prev_num, current_num = 1, 1\n",
    "\n",
    "# Deze loop blijft actief totdat current_num groter is dan 1000 (ergo, de conditie wordt False)\n",
    "while current_num < 1000:\n",
    "    prev_num, current_num = current_num, current_num + prev_num\n",
    "    print(current_num)\n",
    "\n",
    "\n",
    "    "
   ]
  },
  {
   "cell_type": "code",
   "execution_count": null,
   "metadata": {},
   "outputs": [],
   "source": [
    "prev_num, current_num = 1, 1\n",
    "\n",
    "# Deze loop blijft actief totdat current_num groter is dan 1000 (ergo, de conditie wordt False)\n",
    "while current_num < 1000:\n",
    "    prev_num, current_num = current_num, current_num + prev_num\n",
    "\n",
    "    # Soms zijn er dingen die in een herhaling gebeuren die ervoor zorgen dat je \n",
    "    # iets in die herhaling niet meer hoeft te doen\n",
    "    \n",
    "    # Als je een specifieke herhaling wil overslaan, dan kan dat met continue:\n",
    "    if current_num == 21:\n",
    "        continue\n",
    "\n",
    "    # Als je de hele loop wil beeindigen, dan kan dat met break:\n",
    "    if current_num > 500:\n",
    "        break\n",
    "    \n",
    "\n",
    "    print(current_num)"
   ]
  },
  {
   "cell_type": "markdown",
   "metadata": {},
   "source": [
    "Door de continue is nummer 21 uiteindelijk nooit geprint. Door de break zijn we niet na 1000 gestopt, maar al na 500"
   ]
  },
  {
   "cell_type": "markdown",
   "metadata": {},
   "source": [
    "## Lijsten"
   ]
  },
  {
   "cell_type": "code",
   "execution_count": null,
   "metadata": {},
   "outputs": [],
   "source": [
    "# lijsten staan gedefinieerd in rechte haken\n",
    "other_list = [1, 2, 3, 4, 5, 6]\n",
    "\n",
    "print(other_list)\n",
    "\n",
    "# Ook is het mogelijk om elementen aan een lijst toe te voegen\n",
    "for i in range(6, 11):  # Range loopt van begin tot eind (dus niet tot en met)\n",
    "    print(i)\n",
    "    other_list.append(i)  # Voeg i toe aan de lijst\n",
    "\n",
    "print(other_list)"
   ]
  },
  {
   "cell_type": "markdown",
   "metadata": {},
   "source": [
    "Bij de range wordt er een 'lijst' van getallen gegeneerd met tussen een start en stop waarde, met een stap x. oftewel: range(<start>, <stop>, <stapgrootte>).\n",
    "Op deze manier kun je bijvoorbeeld alle even getallen tot 1000 aflopen door een range op te stellen als range(0, 1002, 2). (Welke getallen zitten er in deze range?)\n",
    "\n",
    "Lijsten hebben ook de eigenschap dat je een n'de element uit de lijst kan selecteren. In Python gaat dit met de rechthoekige haken die dan gevuld zijn met een getal. Onthoud dat het tellen in Python (en veel andere programmeertalen) begint bij 0 en niet 1!\n",
    "Wat voorbeelden:\n"
   ]
  },
  {
   "cell_type": "code",
   "execution_count": null,
   "metadata": {},
   "outputs": [],
   "source": [
    "print(other_list[0], other_list[1])  # Print de eerste 2 elementen van de lijst\n",
    "\n",
    "print(other_list[0:2])  # selecteer een gedeelte van de lijst\n",
    "\n",
    "print(other_list[-1])  # Selecteer het laatste element van de lijst\n",
    "\n",
    "print(other_list[::-1])  # Ga door de lijst in omgekeer volgorde"
   ]
  },
  {
   "cell_type": "markdown",
   "metadata": {},
   "source": [
    "De manier hoe deze selecties met dubbele punten werken lijkt op hoe ranges gemaakt worden, alleen dan met dubbele punten ertussen.\n",
    "\n",
    "Dus [<start>:<stop>:<stapgrootte>]. Als één van deze niet wordt ingevuld, dan worden de standaardwaarden gehanteerd. Dit zijn:\n",
    "* <start> = 0\n",
    "* <stop> = lengte vd lijst\n",
    "* <stapgrootte> = 1"
   ]
  },
  {
   "cell_type": "markdown",
   "metadata": {},
   "source": [
    "# Opdracht 1a: Priemgetallen berekenen\n",
    "\n",
    "Priemgetallen zijn alle positieve  (dus > 0), gehele getallen waarvoor geldt dat ze alleen maar deelbaar zijn door zichzelf en 1 zonder een restgetal over te laten.\n",
    "\n",
    "\n",
    "Zo zijn 1, 2 en 3 priemgetallen, maar 4 bijvoorbeeld niet (4 is deelbaar door 1, en zichzelf (4), maar ook door 2)\n",
    "\n",
    "De opdracht voor jullie is nu om de eerste 1000 priemgetallen correct te berekenen. Met deze lijst van 1000 priemgetallen zul je een paar vragen moeten beantwoorden om te kijken of je inderdaad de correcte lijst hebt gevonden.\n",
    "\n",
    "Tips:\n",
    "* Het makkelijkste is om 1 (en misschien 2) alvast toe te voegen aan je lijst van priemgetallen (all_primes)\n",
    "* Waarschijnlijk wil je iets met een loop door getallen heen doen"
   ]
  },
  {
   "cell_type": "code",
   "execution_count": null,
   "metadata": {},
   "outputs": [],
   "source": [
    "all_primes = []\n",
    "\n",
    "\n",
    "\n",
    "\n",
    "\n",
    "\n"
   ]
  },
  {
   "cell_type": "markdown",
   "metadata": {},
   "source": [
    "## Uitwerkingsvoorbeelden"
   ]
  },
  {
   "cell_type": "code",
   "execution_count": null,
   "metadata": {},
   "outputs": [],
   "source": [
    "all_primes = [1, 2]\n",
    "check_num = 3\n",
    "\n",
    "while len(all_primes) < 1000:\n",
    "    is_prime = True\n",
    "\n",
    "    for prime in all_primes[1:]:\n",
    "        if check_num % prime == 0:\n",
    "            is_prime = False\n",
    "\n",
    "    if is_prime:\n",
    "        all_primes.append(check_num)\n",
    "\n",
    "    check_num += 2\n"
   ]
  },
  {
   "cell_type": "code",
   "execution_count": null,
   "metadata": {},
   "outputs": [],
   "source": [
    "all_primes = [1]\n",
    "\n",
    "for i in range(2, 1000000):\n",
    "    is_prime = True\n",
    "    \n",
    "    for j in range(2, i):\n",
    "        if i % j == 0:\n",
    "            is_prime = False\n",
    "            break\n",
    "\n",
    "    if is_prime:\n",
    "        all_primes.append(i)\n",
    "\n",
    "    if len(all_primes) >= 1000:\n",
    "        break\n",
    "    "
   ]
  },
  {
   "cell_type": "code",
   "execution_count": null,
   "metadata": {},
   "outputs": [],
   "source": []
  },
  {
   "cell_type": "code",
   "execution_count": null,
   "metadata": {},
   "outputs": [],
   "source": []
  },
  {
   "cell_type": "code",
   "execution_count": null,
   "metadata": {},
   "outputs": [],
   "source": [
    "checker.check_all_primes(all_primes)"
   ]
  },
  {
   "cell_type": "code",
   "execution_count": null,
   "metadata": {},
   "outputs": [],
   "source": []
  },
  {
   "cell_type": "markdown",
   "metadata": {},
   "source": [
    "# Opdracht 1b: Welk nummer zoek ik?\n",
    "\n",
    "Tussen de getallen 1 en 1000 is er één getal wat aan elk van de volgende eisen voldoet:\n",
    "* Het getal bestaat uit minstens 2 cijfers\n",
    "* Het is een priemgetal\n",
    "* Het getal heeft niet de cijfer 1 of 7 erin\n",
    "* De som van de cijfers in het getal is kleiner of gelijk aan 10\n",
    "* De som van de eerste twee cijfers in het getal moeten een oneven getal produceren\n",
    "* Het een-na-laatste cijfer is even en groter dan 1\n",
    "* Het laatste cijfer is gelijk aan de hoeveelheid cijfers in het getal.\n",
    "\n",
    "Welk cijfer zoek ik?\n",
    "\n",
    "Tips:\n",
    "* De lijst van priemgetallen die je net berekent hebt is een goed startpunt voor dit vraagstuk\n",
    "* Wanneer je dingen met individuele getallen wil doen in een cijfer, dan kun je het makkelijkste een getal omzet naar een string (lijst van karakters) en per element weer omzetten naar een getal:\n",
    "\n",
    "* De som van elementen in een lijst kun je vinden door een sum te nemen van de lijst. vb. : sum([1, 4, 7, 3])"
   ]
  },
  {
   "cell_type": "code",
   "execution_count": null,
   "metadata": {},
   "outputs": [],
   "source": [
    "number = 118495\n",
    "num_as_list = [int(digit) for digit in str(number)]\n",
    "print(num_as_list)\n",
    "\n",
    "# Bovenstaande is een zogenaamde list comprehension..\n",
    "# Dit zou equivalent zijn aan:\n",
    "num_as_list = []  # Maak een lijst aan om alle cijfer-elementen in op te slaan\n",
    "\n",
    "num_as_str = str(number)  # Zet ons getal om naar een string, zodat we door ieder cijfer heen kunnen\n",
    "for digit in num_as_str:  \n",
    "    digit_as_num = int(digit)  # Cijfer weer omzetten naar een getal, anders kunnen we er niet mee rekenen\n",
    "    num_as_list.append(digit_as_num)  # Toevoegen aan de lijst die we hebben gemaakt\n",
    "\n"
   ]
  },
  {
   "cell_type": "markdown",
   "metadata": {},
   "source": [
    "## Uitwerkingsvoorbeelden"
   ]
  },
  {
   "cell_type": "code",
   "execution_count": null,
   "metadata": {},
   "outputs": [],
   "source": [
    "# Lijst maken van alle getallen tussen 1 en 1000 + met minstens 2 cijfers (dus >= 10)\n",
    "\n",
    "check_list = [number for number in all_primes if 10 <= number <= 1000]\n",
    "\n",
    "\n",
    "# Vervolgens loopen en kijken of er een nummer is wat aan de condities voldoet...\n",
    "for number in check_list:\n",
    "    num_as_list = [int(digit) for digit in str(number)]\n",
    "\n",
    "    # Zit er een 1 of 7 in?\n",
    "    if 1 in num_as_list or 7 in num_as_list:\n",
    "        continue\n",
    "\n",
    "    # Som van de cijfers moet <= 10 zijn\n",
    "    if sum(num_as_list) > 10:\n",
    "        continue\n",
    "\n",
    "    # Som van eerste 2 cijfers moet oneven zijn\n",
    "    if (num_as_list[0] + num_as_list[1]) % 2 == 0:\n",
    "        continue\n",
    "\n",
    "    if num_as_list[-2] % 2 != 0 or num_as_list[-2] < 1:\n",
    "        continue\n",
    "\n",
    "\n",
    "    if num_as_list[-1] != len(num_as_list):\n",
    "        continue\n",
    "\n",
    "\n",
    "    print(number)\n",
    "    \n"
   ]
  },
  {
   "cell_type": "code",
   "execution_count": null,
   "metadata": {},
   "outputs": [],
   "source": [
    "checker.check_finding_number(number)"
   ]
  },
  {
   "cell_type": "markdown",
   "metadata": {},
   "source": [
    "# Opdracht 2a: Caesar cipher\n",
    "\n",
    "In deze opdracht gaan we de \"Caeser cipher\" maken. Dit is een techniek om een geheime boodschap over te brengen, waarbij alleen de persoon die de sleutel heeft de boodschap kan ontcijferen. De techniek is vernoemd naar Julius Caesar die deze techniek soms gebruikte voor communicatie. \n",
    "\n",
    "Bij deze techniek worden de letters van een tekst vervangen door letters die N plekken later in het alfabet voorkomen. Zo wordt de tekst \"HALLO\" bijvoorbeeld de tekst \"JCNNQ\" met een N ofwel sleutel van 2 (H->J, A->C, L->N, etc.) en de tekst \"ZEBRA\" wordt met de sleutel 3 \"CHEUD\" (de letters worden 3 plekken geshift, waarbij we na de Z weer bij de A belanden, dus Z wordt C).\n",
    "\n",
    "We gaan nu deze cipher in python maken. Dit doen we door code schrijven die een input string met een N aantal plekken shift en de versleutelde string teruggeeft.\n",
    "\n",
    "Tips:\n",
    "\n",
    "* De computer, en dus ook Python, maakt voor elk karakter (letter, getal, leesteken, etc.) onderliggend gebruik van een zogenaamde Unicode, gebruik deze.\n",
    "* Ook hier is het handig om een loop te maken over de input text.\n",
    "* Je kunt testen of de versleuteling goed werkt door de output (versleutelde string) weer in te voeren met een omgekeerde shift en te kijken of deze gelijk is aan je originele input text."
   ]
  },
  {
   "cell_type": "code",
   "execution_count": null,
   "metadata": {},
   "outputs": [],
   "source": [
    "text = 'TEST'\n",
    "shift = 1\n",
    "\n",
    "result = \"\" # hierin maken we de versleutelde boodschap\n",
    "\n",
    "# schrijf hier code die zorgt dat de text wordt geshift met het opgegeven aantal\n",
    "\n",
    "\n",
    "print(result)"
   ]
  },
  {
   "cell_type": "code",
   "execution_count": null,
   "metadata": {},
   "outputs": [],
   "source": [
    "checker.check_encrypt(text, shift, result)"
   ]
  },
  {
   "cell_type": "markdown",
   "metadata": {},
   "source": [
    "## Uitwerkingsvoorbeeld"
   ]
  },
  {
   "cell_type": "code",
   "execution_count": null,
   "metadata": {},
   "outputs": [],
   "source": [
    "text = 'TEST'\n",
    "shift = 1\n",
    "\n",
    "# ENCRYPT\n",
    "result = \"\" # hierin maken we de versleutelde boodschap\n",
    "\n",
    "# loop over de karakters in text\n",
    "for i in range(len(text)):\n",
    "    char = text[i]\n",
    "    \n",
    "    # zet char om naar unicode en tel hier de shift bij op waarbij we zorgen dat we na het karakter 26 weer naar 1 gaan (hier eindigt het alfabet)\n",
    "    char = chr((ord(char) + shift - 65) % 26 + 65)\n",
    "    # voeg nieuwe karakter aan resultaat toe\n",
    "    result += char\n",
    "\n",
    "print(result)\n",
    "\n",
    "\n",
    "# eventueel DECRYPT\n",
    "result_prev = result\n",
    "result = \"\" # hierin maken we de ontsleutelde boodschap\n",
    "\n",
    "# loop over de karakters in versleutelde boodschap (vorige result)\n",
    "for i in range(len(result_prev)):\n",
    "    char = result_prev[i]\n",
    "    # zet karakter om naar unicode maar shift nu naar links (negatieve shift) ipv rechts en zet dit weer om naar een karakter\n",
    "    char = chr((ord(char) - shift - 65) % 26 + 65)\n",
    "    # voeg karakter aan resultaat toe\n",
    "    result += char \n",
    "    \n",
    "print(result)"
   ]
  },
  {
   "cell_type": "markdown",
   "metadata": {},
   "source": [
    "# Opdracht 2b: Geavanceerde Caesar cipher\n",
    "\n",
    "Is het gelukt om de Caeser cipher te maken? Deze werkt (waarschijnlijk) niet goed bij een invoer van kleine letters (probeer het maar eens).\n",
    "\n",
    "Probeer nu om de cipher zo aan te passen dat deze ook met kleine letters werkt. Voeg eventueel een waarschuwing toe wanneer er een teken wordt ingevuld waar de code niet goed mee om kan gaan.\n",
    "\n",
    "Tips:\n",
    "* Je kunt je cipher code van opdracht 2a grotendeels hergebruiken."
   ]
  },
  {
   "cell_type": "code",
   "execution_count": null,
   "metadata": {},
   "outputs": [],
   "source": [
    "text = 'TESTtest'\n",
    "shift = 1\n",
    "\n",
    "result = \"\" # hierin maken we de versleutelde boodschap\n",
    "\n",
    "# je kan hier je code van 2a gebruiken, maar houd nu rekening met invoer van kleine letters\n",
    "# voeg eventueel een waarschuwing toe wanneer de tekst een karakter bevat dat geen letter is en laat deze uit het resultaat\n",
    "\n",
    "print(result)"
   ]
  },
  {
   "cell_type": "code",
   "execution_count": null,
   "metadata": {},
   "outputs": [],
   "source": [
    "checker.check_encrypt(text, shift, result)"
   ]
  },
  {
   "cell_type": "markdown",
   "metadata": {},
   "source": [
    "## Uitwerkingsvoorbeelden"
   ]
  },
  {
   "cell_type": "code",
   "execution_count": null,
   "metadata": {},
   "outputs": [],
   "source": [
    "text = 'TESTtest'\n",
    "shift = 1\n",
    "\n",
    "# ENCRYPT\n",
    "result = \"\" # hierin maken we de versleutelde boodschap\n",
    "\n",
    "# loop over de karakters in text\n",
    "for i in range(len(text)):\n",
    "    char = text[i]\n",
    "\n",
    "    # shift hoofdletter \n",
    "    if (char.isupper()):\n",
    "        result += chr((ord(char) + shift - 65) % 26 + 65)\n",
    "    # shift kleine letter\n",
    "    else:\n",
    "        result += chr((ord(char) + shift - 97) % 26 + 97)\n",
    "\n",
    "print(result)\n",
    "\n",
    "\n",
    "# eventueel DECRYPT\n",
    "result_prev = result\n",
    "result = \"\" # hierin maken we de ontsleutelde boodschap\n",
    "\n",
    "# loop over de karakters in versleutelde boodschap (vorige result)\n",
    "for i in range(len(result_prev)):\n",
    "    char = result_prev[i]\n",
    "    \n",
    "    # shift hoofdletter terug\n",
    "    if (char.isupper()):\n",
    "        result += chr((ord(char) - shift - 65) % 26 + 65)\n",
    "    # shift kleine letter terug\n",
    "    else:\n",
    "        result += chr((ord(char) - shift - 97) % 26 + 97)\n",
    "    \n",
    "print(result)"
   ]
  },
  {
   "cell_type": "code",
   "execution_count": null,
   "metadata": {},
   "outputs": [],
   "source": [
    "text = 'TEST-test'\n",
    "shift = 1\n",
    "\n",
    "# ENCRYPT met check op non-alpha tekens\n",
    "result = \"\" # hierin maken we de versleutelde boodschap\n",
    "\n",
    "# loop over de karakters in text\n",
    "for i in range(len(text)):\n",
    "    char = text[i]\n",
    "\n",
    "    # shift hoofdletter \n",
    "    if (char.isupper()):\n",
    "        result += chr((ord(char) + shift - 65) % 26 + 65)\n",
    "    # shift kleine letter\n",
    "    elif (char.islower()):\n",
    "        result += chr((ord(char) + shift - 97) % 26 + 97)\n",
    "    # geef waarschuwing bij non-alfabetisch teken als invoer\n",
    "    else:\n",
    "        print(\"(Het opgegeven karakter:\", char, \", is geen letter.)\")\n",
    "        char = char # of '#'\n",
    "        result += char # voeg eventueel het input karakter toe, of vervangend karakter\n",
    "\n",
    "print(result)\n",
    "\n",
    "# eventueel DECRYPT met check op non-alpha tekens\n",
    "result_prev = result\n",
    "result = \"\" # hierin maken we de ontsleutelde boodschap\n",
    "\n",
    "# loop over de karakters in versleutelde boodschap (vorige result)\n",
    "for i in range(len(result_prev)):\n",
    "    char = result_prev[i]\n",
    "    \n",
    "    # shift hoofdletter terug\n",
    "    if (char.isupper()):\n",
    "        result += chr((ord(char) - shift - 65) % 26 + 65)\n",
    "    # shift kleine letter terug\n",
    "    elif (char.islower()):\n",
    "        result += chr((ord(char) - shift - 97) % 26 + 97)\n",
    "    # geef waarschuwing bij non-alfabetisch teken als invoer\n",
    "    else:\n",
    "        print(\"(Het opgegeven karakter:\", char, \", is geen letter.)\")\n",
    "        char = char # of '#'\n",
    "        result += char # voeg eventueel het input karakter toe, of vervangend karakter\n",
    "    \n",
    "print(result)"
   ]
  },
  {
   "cell_type": "markdown",
   "metadata": {},
   "source": [
    "# Opdracht 3: Het weer van 2023 t.o.v. 2022\n",
    "\n",
    "Zoals bij iedereen bekend houdt het KNMI heel wat gegevens bij over het weer. Dit doen ze al een aardig poosje en ze zijn ook zo symphatiek om de data beschikbaar te stellen via hun website. \n",
    "\n",
    "Deze opdracht gaat over het bepalen van de momenten dat Mike eigenlijk met de fiets naar zijn werk had kunnen in 2022 t.o.v. 2023. Mike zelf denkt dat 2023 niet alleen natter was, maar ook kouder en winderiger, waardoor fietsen naar Amsterdam Sloterdijk vanuit Amsterdam Slotervaart toch minder aantrekkelijk is.\n",
    "\n",
    "Om jullie op weg te helpen is in ieder geval alle data al opgehaald in een lijst met dictionaries (als het goed is geen onbekenden meer voor jullie!) voor elk uur in 2022 en 2023. Onderstaand zijn de betekenissen van de verschillende indicatorcodes:\n",
    "* DD: Windrichting (in graden) gemiddeld over de laatste 10 minuten van het afgelopen uur (360=noord, 90=oost, 180=zuid, 270=west, 0=windstil 990=veranderlijk)\n",
    "* FH: Uurgemiddelde windsnelheid (in 0.1 m/s)\n",
    "* FX: Hoogste windstoot (in 0.1 m/s) over het afgelopen uurvak\n",
    "* T: Temperatuur (in 0.1 graden Celsius) op 1.50 m hoogte tijdens de waarneming\n",
    "* SQ: Duur van de zonneschijn (in 0.1 uren) per uurvak, berekend uit globale straling (-1 for <0.05 uur)\n",
    "* DR: Duur van de neerslag (in 0.1 uur) per uurvak\n",
    "* RH: Uursom van de neerslag (in 0.1 mm) (-1 voor <0.05 mm)\n",
    "\n",
    "Om een oordeel te geven of Mike wel of niet met de fiets had kunnen gaan naar Bouwinvest op een bepaalde dag houden we de volgende regels aan:\n",
    "* Alleen maandag t/m vrijdag zijn relevant. We doen even alsof Mike nooit met vakantie gaat en ook niet vrij is met nationale feestdagen\n",
    "* Als er storm is (gemiddelde snelheid van windstoten van 21 m/s of meer) dan geeft het KNMI een waarschuwing af en gaan we niet fietsen\n",
    "    * Dit geldt ook als er in een bepaald uur een windstoot is geweest van 28 m/s of meer!\n",
    "* Als het regent in een specifiek uurvak, dan kan er niet gefietst worden!\n",
    "* Als de temperatuur in een uurvak onder de 0 graden is kan er niet gefietst worden: mogelijk ligt er ijzel en vallen is niet fijn.\n",
    "  \n",
    "* In principe vertrekt Mike ergens in uurvakken 7 of 8 van huis naar kantoor en gaan we weer naar huis in uurvakken 16, 17 of 18\n",
    "  \n",
    "De bovenstaande regels moeten op dezelfde dag gelden voor heen- en terugreis. In de ochtend droog aankomen en in de avond terug met storm en regen is niet fijn. De vraag aan jullie om nu te beantwoorden, rekening houdend met de bovenstaande regels: Hoeveel dagen kon Mike op de fiets naar zijn werk in 2022 en hoeveel dagen waren dit in 2023?\n",
    "\n",
    "\n",
    "\n",
    "\n",
    "\n"
   ]
  },
  {
   "cell_type": "code",
   "execution_count": null,
   "metadata": {},
   "outputs": [],
   "source": [
    "import requests\n",
    "\n",
    "url = \"https://www.daggegevens.knmi.nl/klimatologie/uurgegevens\"\n",
    "\n",
    "data = {\n",
    "    \"start\": \"2022010101\",\n",
    "    \"end\": \"2022123024\",\n",
    "    \"vars\": \"T:DD:FH:FX:SQ:DR:RH\",\n",
    "    \"stns\": \"240\",\n",
    "    \"fmt\": \"json\"\n",
    "}\n",
    "\n",
    "res = requests.post(url, data=data)\n",
    "if res.status_code != 200:\n",
    "    print(\"Iets is fout gegaan met het ophalen van 2022?\")\n",
    "    \n",
    "data_2022 = res.json()\n",
    "\n",
    "\n",
    "\n",
    "data = {\n",
    "    \"start\": \"2023010101\",\n",
    "    \"end\": \"2023123024\",\n",
    "    \"vars\": \"T:DD:FH:FX:SQ:DR:RH\",\n",
    "    \"stns\": \"240\",\n",
    "    \"fmt\": \"json\"\n",
    "}\n",
    "\n",
    "res = requests.post(url, data=data)\n",
    "if res.status_code != 200:\n",
    "    print(\"Iets is fout gegaan met het ophalen?\")\n",
    "    \n",
    "data_2023 = res.json()"
   ]
  },
  {
   "cell_type": "markdown",
   "metadata": {},
   "source": [
    "Alle relevante data staat nu zowel data_2022 als data_2023. Deze hebben we automatisch opgehaald vanuit de KNMI website door gebruik te maken van de request package, een ingebouwde bibliotheek van Python die meer functionaliteiten toevoegt aan de taal zodat het makkelijker wordt om sommige handelingen uit te voeren. Het importeren van dit soort pakketten gaat eenvoudig met het commanda 'import [x]', waar [x] de naam van het pakket is\n",
    "\n",
    "\n",
    "De aangemaakte variabelen bestaan uit lijsten, waarvan ieder element een dictionary is die de gegevens van een specifiek uurvak bevatten. Om het makkelijker te maken om de opdracht uit te voeren raden wij je aan om nog een andere standaardpackage te gebruiken: datetime. Hiermee is het mogelijk om voor een datum makkelijk te achterhalen welke dag van de week dit is. Een makkelijke manier om dit te doen is door een functie te schrijven die een element aanpast in onze lijst. Zo ziet zo'n element eruit:"
   ]
  },
  {
   "cell_type": "code",
   "execution_count": null,
   "metadata": {},
   "outputs": [],
   "source": [
    "display(data_2022[0])"
   ]
  },
  {
   "cell_type": "code",
   "execution_count": null,
   "metadata": {},
   "outputs": [],
   "source": [
    "def add(a, b):\n",
    "    return a + b\n",
    "\n",
    "print(add(1, 5))\n",
    "print(add(4, 20))"
   ]
  },
  {
   "cell_type": "markdown",
   "metadata": {},
   "source": [
    "Bovenstaand is hoe een functie binnen Python gedefinieerd wordt. Belangrijke take-aways zijn:\n",
    "* eerste commando is altijd 'def' met een spatie en daarna de naam van de functie.\n",
    "* Tussen de haakjes komen de namen van de parameters. Dit zijn waarden die kunnen veranderen.\n",
    "* Na de haken volgt altijd een :\n",
    "* Wat er uitgevoerd wordt in de functie is altijd ingesprongen. Dit geeft het niveau aan (zelfde als bij loopjes / if/else statements)\n",
    "* Het einde van een functie geeft vaak iets terug. Dit gaat met een return statement, die een bepaalde variabele weer teruggeeft\n",
    "\n",
    "Functies zijn handig om stukken code te hergebruiken. Je kan je voorstellen dat een bepaalde logica copy-pasten voor verschillende variabelen bijvoorbeeld werkt, maar niet zo handig is als je het naderhand moet veranderen (omdat je per ongeluk een fout hebt gemaakt bijvoorbeeld).\n",
    "\n",
    "Onderstaande is een skelet voor een functie die de dag van de week toevoegd aan ieder van de dictionaries die de KNMI ons teruggeeft voor een uur. Kun je deze afmaken samen met de datetime bibliotheek om de dag van de week toe te voegen aan een element?\n",
    "\n",
    "(Tip: de documentatie van datetime staat hier: https://docs.python.org/3/library/datetime.html# . De datum zoals KNMI deze aanlevert is in het standaard ISO 8601 formaat. Er is een functie die dit automatisch omzet naar een datetime object, waardoor de datum makkelijk te vinden is)"
   ]
  },
  {
   "cell_type": "code",
   "execution_count": null,
   "metadata": {},
   "outputs": [],
   "source": [
    "import datetime\n",
    "\n",
    "def find_day_of_the_week(knmi_element):\n",
    "    \"\"\"\n",
    "    Function which takes a knmi element and returns a copy that also contains\n",
    "    the day of the week as an integer\n",
    "\n",
    "    input: \n",
    "        knmi_element: (Dict[str]: str|int)\n",
    "\n",
    "    output:\n",
    "        knmi_element: (Dict[str]: str|int)\n",
    "    \"\"\"\n",
    "\n",
    "    return"
   ]
  },
  {
   "cell_type": "markdown",
   "metadata": {},
   "source": [
    "Deze opdracht is natuurlijk wat ingewikkelder dan de vorige opdrachten, waardoor het handig kan zijn eerst een strategie te bedenken om het probleem op te lossen. Om dit makkelijker te maken is het handig om het probleem in stukken op te knippen en te kijken welke stapjes allemaal gedaan moeten worden.\n"
   ]
  },
  {
   "cell_type": "markdown",
   "metadata": {},
   "source": [
    "# Uitwerkvoorbeeld"
   ]
  },
  {
   "cell_type": "code",
   "execution_count": null,
   "metadata": {},
   "outputs": [],
   "source": [
    "import datetime\n",
    "from copy import deepcopy\n",
    "\n",
    "def find_day_of_the_week(knmi_element):\n",
    "    \"\"\"\n",
    "    Function which takes a knmi element and returns a copy that also contains\n",
    "    the day of the week as an integer\n",
    "\n",
    "    input: \n",
    "        knmi_element: (Dict[str]: str|int)\n",
    "\n",
    "    output:\n",
    "        knmi_element: (Dict[str]: str|int)\n",
    "    \"\"\"\n",
    "    _knmi_element = deepcopy(knmi_element)\n",
    "    \n",
    "    # Get day of week, we use codes 1 = Monday, 7 = Sunday as standard given\n",
    "    date_object = datetime.datetime.fromisoformat(knmi_element[\"date\"])\n",
    "    day_of_week = date_object.isoweekday()\n",
    "\n",
    "    _knmi_element[\"day_of_week\"] = day_of_week\n",
    "\n",
    "    return _knmi_element"
   ]
  },
  {
   "cell_type": "code",
   "execution_count": null,
   "metadata": {},
   "outputs": [],
   "source": [
    "new_data_2022 = [find_day_of_the_week(knmi_element) for knmi_element in data_2022]\n",
    "new_data_2023 = [find_day_of_the_week(knmi_element) for knmi_element in data_2023]"
   ]
  },
  {
   "cell_type": "code",
   "execution_count": null,
   "metadata": {},
   "outputs": [],
   "source": [
    "def filter_element(knmi_element):\n",
    "    \"\"\"\n",
    "    Function which takes a knmi_element and returns True if it adheres to the\n",
    "    limits that are defined in this function. False otherwise\n",
    "\n",
    "    input: \n",
    "        knmi_element: (Dict[str]: str|int)\n",
    "\n",
    "    output:\n",
    "        valid (bool): If an element satisfies the conditions in the function\n",
    "    \"\"\"\n",
    "    if knmi_element[\"day_of_week\"] not in (1, 2, 3, 4, 5):\n",
    "        return False\n",
    "        \n",
    "    if knmi_element[\"T\"] < 0:\n",
    "        return False\n",
    "        \n",
    "    if knmi_element[\"hour\"] not in (7, 8, 16, 17, 18):\n",
    "        return False\n",
    "        \n",
    "    if knmi_element[\"RH\"] > 0:\n",
    "        return False\n",
    "        \n",
    "    if knmi_element[\"FH\"] >= 210:\n",
    "        return False\n",
    "        \n",
    "    if knmi_element[\"FX\"] >= 280:\n",
    "        return False\n",
    "\n",
    "    return True\n"
   ]
  },
  {
   "cell_type": "code",
   "execution_count": null,
   "metadata": {},
   "outputs": [],
   "source": [
    "filtered_2022 = [item for item in new_data_2022 if filter_element(item)]\n",
    "filtered_2023 = [item for item in new_data_2023 if filter_element(item)]"
   ]
  },
  {
   "cell_type": "code",
   "execution_count": null,
   "metadata": {},
   "outputs": [],
   "source": [
    "# Vanaf hier zijn er 1000 manieren om het probleem op te lossen. Laten we heel lui een dictionary maken met dagen\n",
    "# En de items een lijst van 5 getallen (voor de verschillende uren). Als het een valide moment is, dan is het een 1, anders een 0\n",
    "# Vanaf daar kun je tellen of er in de eerste 2 en laatste 3 allebei een 1 staat\n",
    "\n",
    "# Maak een mapping om uurvak om te zetten naar de 5 moment die wij bijhouden\n",
    "mapping = {7: 0, 8: 1, 16: 2, 17: 3, 18: 4}\n",
    "\n",
    "\n",
    "all_days_2022 = {item[\"date\"]: [0, 0, 0, 0, 0] for item in filtered_2022}\n",
    "all_days_2023 = {item[\"date\"]: [0, 0, 0, 0, 0] for item in filtered_2023}\n",
    "\n",
    "# Langs de data gaan en optellen als we hem vinden\n",
    "for item in filtered_2022:\n",
    "    all_days_2022[item[\"date\"]][mapping[item[\"hour\"]]] += 1\n",
    "\n",
    "for item in filtered_2023:\n",
    "    all_days_2023[item[\"date\"]][mapping[item[\"hour\"]]] += 1\n",
    "\n",
    "# Nu nog een laatste keer langs de dagen gaan en deze verzamelen in een lijst:\n",
    "bike_days_2022 = [date for date, hours in all_days_2022.items() if sum(hours[:2]) >= 1 and sum(hours[2:]) >= 1]\n",
    "bike_days_2023 = [date for date, hours in all_days_2023.items() if sum(hours[:2]) >= 1 and sum(hours[2:]) >= 1]\n",
    "\n",
    "num_bike_days_2022 = len(bike_days_2022)\n",
    "num_bike_days_2023 = len(bike_days_2023)"
   ]
  },
  {
   "cell_type": "code",
   "execution_count": null,
   "metadata": {},
   "outputs": [],
   "source": [
    "checker.check_bike_days_2022(num_bike_days_2022)"
   ]
  },
  {
   "cell_type": "code",
   "execution_count": null,
   "metadata": {},
   "outputs": [],
   "source": [
    "checker.check_bike_days_2023(num_bike_days_2023)"
   ]
  },
  {
   "cell_type": "code",
   "execution_count": null,
   "metadata": {},
   "outputs": [],
   "source": []
  },
  {
   "cell_type": "code",
   "execution_count": null,
   "metadata": {},
   "outputs": [],
   "source": []
  },
  {
   "cell_type": "code",
   "execution_count": null,
   "metadata": {},
   "outputs": [],
   "source": []
  },
  {
   "cell_type": "code",
   "execution_count": null,
   "metadata": {},
   "outputs": [],
   "source": []
  },
  {
   "cell_type": "code",
   "execution_count": null,
   "metadata": {},
   "outputs": [],
   "source": []
  },
  {
   "cell_type": "code",
   "execution_count": null,
   "metadata": {},
   "outputs": [],
   "source": []
  },
  {
   "cell_type": "code",
   "execution_count": null,
   "metadata": {},
   "outputs": [],
   "source": []
  },
  {
   "cell_type": "code",
   "execution_count": null,
   "metadata": {},
   "outputs": [],
   "source": []
  },
  {
   "cell_type": "code",
   "execution_count": null,
   "metadata": {},
   "outputs": [],
   "source": []
  },
  {
   "cell_type": "code",
   "execution_count": null,
   "metadata": {},
   "outputs": [],
   "source": []
  },
  {
   "cell_type": "code",
   "execution_count": null,
   "metadata": {},
   "outputs": [],
   "source": []
  },
  {
   "cell_type": "code",
   "execution_count": null,
   "metadata": {},
   "outputs": [],
   "source": []
  },
  {
   "cell_type": "code",
   "execution_count": null,
   "metadata": {},
   "outputs": [],
   "source": []
  },
  {
   "cell_type": "code",
   "execution_count": null,
   "metadata": {},
   "outputs": [],
   "source": []
  },
  {
   "cell_type": "code",
   "execution_count": null,
   "metadata": {},
   "outputs": [],
   "source": []
  },
  {
   "cell_type": "code",
   "execution_count": null,
   "metadata": {},
   "outputs": [],
   "source": []
  },
  {
   "cell_type": "code",
   "execution_count": null,
   "metadata": {},
   "outputs": [],
   "source": []
  },
  {
   "cell_type": "code",
   "execution_count": null,
   "metadata": {},
   "outputs": [],
   "source": []
  },
  {
   "cell_type": "code",
   "execution_count": null,
   "metadata": {},
   "outputs": [],
   "source": []
  },
  {
   "cell_type": "code",
   "execution_count": null,
   "metadata": {},
   "outputs": [],
   "source": []
  },
  {
   "cell_type": "code",
   "execution_count": null,
   "metadata": {},
   "outputs": [],
   "source": []
  },
  {
   "cell_type": "code",
   "execution_count": null,
   "metadata": {},
   "outputs": [],
   "source": []
  },
  {
   "cell_type": "code",
   "execution_count": null,
   "metadata": {},
   "outputs": [],
   "source": []
  },
  {
   "cell_type": "code",
   "execution_count": null,
   "metadata": {},
   "outputs": [],
   "source": []
  },
  {
   "cell_type": "code",
   "execution_count": null,
   "metadata": {},
   "outputs": [],
   "source": []
  },
  {
   "cell_type": "code",
   "execution_count": null,
   "metadata": {},
   "outputs": [],
   "source": []
  }
 ],
 "metadata": {
  "kernelspec": {
   "display_name": "Python 3.11",
   "language": "python",
   "name": "python311"
  },
  "language_info": {
   "codemirror_mode": {
    "name": "ipython",
    "version": 3
   },
   "file_extension": ".py",
   "mimetype": "text/x-python",
   "name": "python",
   "nbconvert_exporter": "python",
   "pygments_lexer": "ipython3",
   "version": "3.11.5"
  }
 },
 "nbformat": 4,
 "nbformat_minor": 4
}
